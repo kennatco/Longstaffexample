{
 "cells": [
  {
   "cell_type": "code",
   "execution_count": 1,
   "metadata": {},
   "outputs": [],
   "source": [
    "#lonstaff price path matrix\n",
    "mx = [[1, 1, 1, 1,1, 1, 1, 1], \n",
    "    [1.09, 1.16, 1.22, 0.93,1.11, 0.76, 0.92, 0.88],\n",
    "    [1.08, 1.26, 1.07, 0.97,1.56, 0.77, 0.84, 1.22],\n",
    "     [1.34, 1.54, 1.03, 0.92,1.52, 0.90, 1.01, 1.34]]\n",
    "\n"
   ]
  },
  {
   "cell_type": "code",
   "execution_count": 2,
   "metadata": {},
   "outputs": [],
   "source": [
    "import numpy as np\n",
    "strike = 1.10"
   ]
  },
  {
   "cell_type": "code",
   "execution_count": 3,
   "metadata": {},
   "outputs": [],
   "source": [
    "#converting the price matrix numpy array\n",
    "Mx = np.zeros((4,8),dtype=np.float64)"
   ]
  },
  {
   "cell_type": "code",
   "execution_count": 4,
   "metadata": {},
   "outputs": [],
   "source": [
    "#loading the matrix with lonstaff prices\n",
    "Mx[0,:] =1\n",
    "Mx[1,:] = mx[1]\n",
    "Mx[2,:] = mx[2]\n",
    "Mx[3,:] = mx[3]"
   ]
  },
  {
   "cell_type": "code",
   "execution_count": 5,
   "metadata": {},
   "outputs": [
    {
     "data": {
      "text/plain": [
       "array([[1.  , 1.  , 1.  , 1.  , 1.  , 1.  , 1.  , 1.  ],\n",
       "       [1.09, 1.16, 1.22, 0.93, 1.11, 0.76, 0.92, 0.88],\n",
       "       [1.08, 1.26, 1.07, 0.97, 1.56, 0.77, 0.84, 1.22],\n",
       "       [1.34, 1.54, 1.03, 0.92, 1.52, 0.9 , 1.01, 1.34]])"
      ]
     },
     "execution_count": 5,
     "metadata": {},
     "output_type": "execute_result"
    }
   ],
   "source": [
    "#price matrix\n",
    "Mx"
   ]
  },
  {
   "cell_type": "code",
   "execution_count": 6,
   "metadata": {},
   "outputs": [],
   "source": [
    "#payoff of the option\n",
    "payoff = np.maximum(strike - Mx,np.zeros((4, 8),dtype=np.float64))"
   ]
  },
  {
   "cell_type": "code",
   "execution_count": 7,
   "metadata": {},
   "outputs": [
    {
     "data": {
      "text/plain": [
       "array([[0.1 , 0.1 , 0.1 , 0.1 , 0.1 , 0.1 , 0.1 , 0.1 ],\n",
       "       [0.01, 0.  , 0.  , 0.17, 0.  , 0.34, 0.18, 0.22],\n",
       "       [0.02, 0.  , 0.03, 0.13, 0.  , 0.33, 0.26, 0.  ],\n",
       "       [0.  , 0.  , 0.07, 0.18, 0.  , 0.2 , 0.09, 0.  ]])"
      ]
     },
     "execution_count": 7,
     "metadata": {},
     "output_type": "execute_result"
    }
   ],
   "source": [
    "payoff"
   ]
  },
  {
   "cell_type": "code",
   "execution_count": 8,
   "metadata": {},
   "outputs": [
    {
     "data": {
      "text/plain": [
       "array([[0., 0., 0., 0., 0., 0., 0., 0.],\n",
       "       [0., 0., 0., 0., 0., 0., 0., 0.],\n",
       "       [0., 0., 0., 0., 0., 0., 0., 0.],\n",
       "       [0., 0., 0., 0., 0., 0., 0., 0.]])"
      ]
     },
     "execution_count": 8,
     "metadata": {},
     "output_type": "execute_result"
    }
   ],
   "source": [
    "#value matrix of the payoff\n",
    "value_matrix = np.zeros_like(payoff)\n",
    "value_matrix"
   ]
  },
  {
   "cell_type": "code",
   "execution_count": 9,
   "metadata": {},
   "outputs": [
    {
     "data": {
      "text/plain": [
       "array([[0.  , 0.  , 0.  , 0.  , 0.  , 0.  , 0.  , 0.  ],\n",
       "       [0.  , 0.  , 0.  , 0.  , 0.  , 0.  , 0.  , 0.  ],\n",
       "       [0.  , 0.  , 0.  , 0.  , 0.  , 0.  , 0.  , 0.  ],\n",
       "       [0.  , 0.  , 0.07, 0.18, 0.  , 0.2 , 0.09, 0.  ]])"
      ]
     },
     "execution_count": 9,
     "metadata": {},
     "output_type": "execute_result"
    }
   ],
   "source": [
    "#displaying the last row of the value matrix, where recursive will begin\n",
    "value_matrix[-1, :] = payoff[-1, :]\n",
    "value_matrix"
   ]
  },
  {
   "cell_type": "code",
   "execution_count": 10,
   "metadata": {},
   "outputs": [],
   "source": [
    "#inputs to the value matrix\n",
    "time_unit = 1\n",
    "r=0.06\n",
    "discount = 0.94176"
   ]
  },
  {
   "cell_type": "code",
   "execution_count": 11,
   "metadata": {},
   "outputs": [],
   "source": [
    "#looping through the value matrix and compaaring with continuation value\n",
    "for t in range(2, 0 , -1):\n",
    "    regression = np.polyfit(Mx[t, :], value_matrix[t + 1, :] * discount, 2)\n",
    "    continuation_value = np.polyval(regression, Mx[t, :])\n",
    "    value_matrix[t, :] = np.where(payoff[t, :] > continuation_value,\n",
    "                                          payoff[t, :],\n",
    "                                          value_matrix[t + 1, :] * discount)"
   ]
  },
  {
   "cell_type": "code",
   "execution_count": 12,
   "metadata": {},
   "outputs": [
    {
     "data": {
      "text/plain": [
       "array([[0.        , 0.        , 0.        , 0.        , 0.        ,\n",
       "        0.        , 0.        , 0.        ],\n",
       "       [0.        , 0.        , 0.06208383, 0.17      , 0.        ,\n",
       "        0.34      , 0.18      , 0.22      ],\n",
       "       [0.        , 0.        , 0.0659232 , 0.13      , 0.        ,\n",
       "        0.33      , 0.26      , 0.        ],\n",
       "       [0.        , 0.        , 0.07      , 0.18      , 0.        ,\n",
       "        0.2       , 0.09      , 0.        ]])"
      ]
     },
     "execution_count": 12,
     "metadata": {},
     "output_type": "execute_result"
    }
   ],
   "source": [
    "#final value matrix\n",
    "value_matrix"
   ]
  },
  {
   "cell_type": "code",
   "execution_count": 13,
   "metadata": {},
   "outputs": [
    {
     "data": {
      "text/plain": [
       "array([[0.        , 0.        , 0.        , 0.        ],\n",
       "       [0.        , 0.        , 0.        , 0.        ],\n",
       "       [0.        , 0.06208383, 0.0659232 , 0.07      ],\n",
       "       [0.        , 0.17      , 0.13      , 0.18      ],\n",
       "       [0.        , 0.        , 0.        , 0.        ],\n",
       "       [0.        , 0.34      , 0.33      , 0.2       ],\n",
       "       [0.        , 0.18      , 0.26      , 0.09      ],\n",
       "       [0.        , 0.22      , 0.        , 0.        ]])"
      ]
     },
     "execution_count": 13,
     "metadata": {},
     "output_type": "execute_result"
    }
   ],
   "source": [
    "#visualtion of the value matrix to lool like longstaff example\n",
    "np.transpose(value_matrix)"
   ]
  },
  {
   "cell_type": "code",
   "execution_count": 14,
   "metadata": {},
   "outputs": [],
   "source": [
    "#discounting the second last column\n",
    "value_vector = value_matrix[1,:] * discount"
   ]
  },
  {
   "cell_type": "code",
   "execution_count": 15,
   "metadata": {},
   "outputs": [],
   "source": [
    "#calcualting the expected price of the option\n",
    "simulations = 8\n",
    "price = np.sum(value_vector) / float(simulations)"
   ]
  },
  {
   "cell_type": "code",
   "execution_count": 16,
   "metadata": {},
   "outputs": [
    {
     "data": {
      "text/plain": [
       "0.11443370880098308"
      ]
     },
     "execution_count": 16,
     "metadata": {},
     "output_type": "execute_result"
    }
   ],
   "source": [
    "#price of the option\n",
    "price"
   ]
  },
  {
   "cell_type": "code",
   "execution_count": 17,
   "metadata": {},
   "outputs": [],
   "source": [
    "# an oop class for lonsatff example\n",
    "class longstaffexample(object):\n",
    "    def __init__(self, strike, simulations,MCprice_matrix,M):\n",
    "        #price path matrix\n",
    "        self.strike = strike\n",
    "        self.simulations = simulations\n",
    "        self.MCprice_matrix = MCprice_matrix\n",
    "        self.M = M\n",
    "        self.discount = 0.94170\n",
    "    def MCprice_matrix(self):\n",
    "        return MCprice_matrix\n",
    "    @property\n",
    "    def MCpayoff(self):\n",
    "    #\"\"\"Returns the inner-value of American Option\"\"\"\n",
    "        payoff = np.maximum(self.strike - self.MCprice_matrix,\n",
    "                            np.zeros((self.M + 1, self.simulations),\n",
    "                            dtype=np.float64))\n",
    "        return payoff\n",
    "    \n",
    "    @property\n",
    "    def value_vector(self):\n",
    "        value_matrix = np.zeros_like(self.MCpayoff)\n",
    "        value_matrix[-1, :] = self.MCpayoff[-1, :]\n",
    "        for t in range(2, 0 , -1):\n",
    "            regression = np.polyfit(self.MCprice_matrix[t, :], value_matrix[t + 1, :] * self.discount, 2)\n",
    "            continuation_value = np.polyval(regression, self.MCprice_matrix[t, :])\n",
    "            value_matrix[t, :] = np.where(self.MCpayoff[t, :] > continuation_value,\n",
    "                                          self.MCpayoff[t, :],\n",
    "                                          value_matrix[t + 1, :] * self.discount)\n",
    "\n",
    "        return value_matrix[1,:] * self.discount\n",
    "    \n",
    "    @property\n",
    "    def price(self): return np.sum(self.value_vector) / float(self.simulations)\n",
    "    "
   ]
  },
  {
   "cell_type": "code",
   "execution_count": 18,
   "metadata": {},
   "outputs": [],
   "source": [
    "#calling out the class\n",
    "le = longstaffexample(1.10, 8,Mx,3)"
   ]
  },
  {
   "cell_type": "code",
   "execution_count": 19,
   "metadata": {},
   "outputs": [
    {
     "data": {
      "text/plain": [
       "array([[1.  , 1.  , 1.  , 1.  , 1.  , 1.  , 1.  , 1.  ],\n",
       "       [1.09, 1.16, 1.22, 0.93, 1.11, 0.76, 0.92, 0.88],\n",
       "       [1.08, 1.26, 1.07, 0.97, 1.56, 0.77, 0.84, 1.22],\n",
       "       [1.34, 1.54, 1.03, 0.92, 1.52, 0.9 , 1.01, 1.34]])"
      ]
     },
     "execution_count": 19,
     "metadata": {},
     "output_type": "execute_result"
    }
   ],
   "source": [
    "# price matrix imethod\n",
    "le.MCprice_matrix"
   ]
  },
  {
   "cell_type": "code",
   "execution_count": 20,
   "metadata": {},
   "outputs": [
    {
     "data": {
      "text/plain": [
       "array([[0.1 , 0.1 , 0.1 , 0.1 , 0.1 , 0.1 , 0.1 , 0.1 ],\n",
       "       [0.01, 0.  , 0.  , 0.17, 0.  , 0.34, 0.18, 0.22],\n",
       "       [0.02, 0.  , 0.03, 0.13, 0.  , 0.33, 0.26, 0.  ],\n",
       "       [0.  , 0.  , 0.07, 0.18, 0.  , 0.2 , 0.09, 0.  ]])"
      ]
     },
     "execution_count": 20,
     "metadata": {},
     "output_type": "execute_result"
    }
   ],
   "source": [
    "#payoff matrix method\n",
    "le.MCpayoff"
   ]
  },
  {
   "cell_type": "code",
   "execution_count": 21,
   "metadata": {},
   "outputs": [
    {
     "data": {
      "text/plain": [
       "array([0.       , 0.       , 0.0584569, 0.160089 , 0.       , 0.320178 ,\n",
       "       0.169506 , 0.207174 ])"
      ]
     },
     "execution_count": 21,
     "metadata": {},
     "output_type": "execute_result"
    }
   ],
   "source": [
    "#value factor method\n",
    "le.value_vector"
   ]
  },
  {
   "cell_type": "code",
   "execution_count": 22,
   "metadata": {},
   "outputs": [
    {
     "data": {
      "text/plain": [
       "0.11442548700373878"
      ]
     },
     "execution_count": 22,
     "metadata": {},
     "output_type": "execute_result"
    }
   ],
   "source": [
    "#price method\n",
    "le.price"
   ]
  },
  {
   "cell_type": "code",
   "execution_count": null,
   "metadata": {},
   "outputs": [],
   "source": []
  }
 ],
 "metadata": {
  "kernelspec": {
   "display_name": "Python 3",
   "language": "python",
   "name": "python3"
  },
  "language_info": {
   "codemirror_mode": {
    "name": "ipython",
    "version": 3
   },
   "file_extension": ".py",
   "mimetype": "text/x-python",
   "name": "python",
   "nbconvert_exporter": "python",
   "pygments_lexer": "ipython3",
   "version": "3.8.0"
  }
 },
 "nbformat": 4,
 "nbformat_minor": 2
}
